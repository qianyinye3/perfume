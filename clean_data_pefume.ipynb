{
 "cells": [
  {
   "cell_type": "code",
   "execution_count": 106,
   "metadata": {},
   "outputs": [],
   "source": [
    "import csv\n",
    "Names_perfume=[]\n",
    "with open('names_data.csv', 'r') as f:\n",
    "    next(f)\n",
    "    reader = csv.reader(f)\n",
    "    Names_perfume =[row[0] for row in reader]"
   ]
  },
  {
   "cell_type": "code",
   "execution_count": 110,
   "metadata": {},
   "outputs": [
    {
     "name": "stdout",
     "output_type": "stream",
     "text": [
      "['皇家香氛', '皇家香氛', '皇家香氛', '皇家香氛', '皇家香氛', '皇家香氛', '皇家香氛', '皇家香氛', '皇家香氛', '皇家香氛', '皇家香氛', '皇家香氛', '皇家香氛', '皇家香氛', '皇家香氛', '皇家香氛', '皇家香氛', '皇家香氛', '皇家香氛', '皇家香氛', '布鲁诺·法兹拉瑞', '布鲁诺·法兹拉瑞', '布鲁诺·法兹拉瑞', '布鲁诺·法兹拉瑞', '布鲁诺·法兹拉瑞', '布鲁诺·法兹拉瑞', '布鲁诺·法兹拉瑞', '布鲁诺·法兹拉瑞', '布鲁诺·法兹拉瑞', '布鲁诺·法兹拉瑞', '布鲁诺·法兹拉瑞', '布鲁诺·法兹拉瑞', '布鲁诺·法兹拉瑞', '布鲁诺·法兹拉瑞', '布鲁诺·法兹拉瑞', '布鲁诺·法兹拉瑞', '布鲁诺·法兹拉瑞', '布鲁诺·法兹拉瑞', '布鲁诺·法兹拉瑞', '布鲁诺·法兹拉瑞', '伊露米琳', '伊露米琳', '伊露米琳', '伊露米琳', '伊露米琳', '伊露米琳', '伊露米琳', '伊露米琳', '伊露米琳', '伊露米琳', '伊露米琳', '伊露米琳', '伊露米琳', '伊露米琳', '伊露米琳', '伊露米琳', '伊露米琳', '伊露米琳', '伊露米琳', '伊露米琳', '伊露米琳', '伊露米琳', '伊露米琳', '伊露米琳', '伊露米琳', '伊露米琳', '伊露米琳', '伊露米琳', '伊露米琳', '伊露米琳', '伊露米琳', '伊露米琳', '伊露米琳', '伊露米琳', '伊露米琳', '伊露米琳', '伊露米琳', '伊露米琳', '伊露米琳', '伊露米琳', '伊露米琳', '伊露米琳', '伊露米琳', '伊露米琳', '伊露米琳', '伊露米琳', '伊露米琳', '伊露米琳', '伊露米琳', '伊露米琳', '软性香水', '软性香水', '软性香水', '软性香水', '软性香水', '软性香水', '软性香水', '软性香水', '软性香水', '软性香水']\n",
      "['Parfums', 'Parfums', 'Parfums', 'Parfums', 'Parfums', 'Parfums', 'Parfums', 'Parfums', 'Parfums', 'Parfums', 'Parfums', 'Parfums', 'Parfums', 'Parfums', 'Parfums', 'Parfums', 'Parfums', 'Parfums', 'Parfums', 'Parfums', 'Bruno', 'Bruno', 'Bruno', 'Au', 'Bruno', 'Bruno', 'Bruno', 'Bruno', 'Bruno', '', 'Bruno', 'Bruno', 'Bruno', 'Au', 'Bruno', 'Bruno', 'Bruno', 'Bruno', 'Bruno', '', '白色栀子花瓣', 'Illuminum', 'Illuminum', 'Illuminum', 'Illuminum', 'Illuminum', 'Illuminum', 'Illuminum', 'Illuminum', 'Illuminum', '白色栀子花瓣', 'Illuminum', 'Illuminum', 'Illuminum', 'Illuminum', 'Illuminum', 'Illuminum', 'Illuminum', 'Illuminum', 'Illuminum', '白色栀子花瓣', 'Illuminum', 'Illuminum', 'Illuminum', 'Illuminum', 'Illuminum', 'Illuminum', 'Illuminum', 'Illuminum', 'Illuminum', '白色栀子花瓣', 'Illuminum', 'Illuminum', 'Illuminum', 'Illuminum', 'Illuminum', 'Illuminum', 'Illuminum', 'Illuminum', 'Illuminum', '白色栀子花瓣', 'Illuminum', 'Illuminum', 'Illuminum', 'Illuminum', 'Illuminum', 'Illuminum', 'Illuminum', 'Illuminum', 'Illuminum', 'Striptease', 'Sabe', 'Zazou', 'Sabe', 'Sabe', 'Artist', 'Sabe', 'Sabe', 'Sabe', 'Sabe']\n"
     ]
    }
   ],
   "source": [
    "Brand_names = []\n",
    "Chinese_names = []\n",
    "for i in Names_perfume:\n",
    "    i = i.split(\" \")\n",
    "    bn = i[0]\n",
    "    cn = i[1]\n",
    "    #i = re.sub(r'[^\\u4e00-\\u9fa5]','',i)\n",
    "    Brand_names.append(bn)\n",
    "    Chinese_names.append(cn)\n",
    "print(Brand_names[:100])      \n",
    "print(Chinese_names[:100])   "
   ]
  },
  {
   "cell_type": "code",
   "execution_count": 108,
   "metadata": {},
   "outputs": [
    {
     "name": "stdout",
     "output_type": "stream",
     "text": [
      "['Parfums Regence Lavendou', 'Parfums Regence Eau De Regence', 'Parfums Regence Lavandou', 'Parfums Regence Oakmoss', 'Parfums Regence Vert Regence', 'Parfums Regence Santal', 'Parfums Regence Eau De Regence', 'Parfums Regence Santal', 'Parfums Regence Kolnisch Juchten', 'Parfums Regence Kolnisch Juchten', 'Parfums Regence Lavandou', 'Parfums Regence Lavendou', 'Parfums Regence Eau De Regence', 'Parfums Regence Santal', 'Parfums Regence Oakmoss', 'Parfums Regence Vert Regence', 'Parfums Regence Eau De Regence', 'Parfums Regence Santal', 'Parfums Regence Kolnisch Juchten', 'Parfums Regence Oakmoss', '· Bruno Fazzolari Jimmy', '· Bruno Fazzolari Lampblack', '· Bruno Fazzolari Room ', '· Au Dela - Narcisse des Montagnes Bruno Fazzolari Au Delà Narcisse', '· Bruno Fazzolari Au Dela', '· Bruno Fazzolari Seyrig', '· Bruno Fazzolari Feu Secret', '· Bruno Fazzolari Monserrat', '· Bruno Fazzolari Five', '·  Bruno Fazzolari Ummagumma', '· Bruno Fazzolari Jimmy', '· Bruno Fazzolari Lampblack', '· Bruno Fazzolari Room ', '· Au Dela - Narcisse des Montagnes Bruno Fazzolari Au Delà Narcisse', '· Bruno Fazzolari Au Dela', '· Bruno Fazzolari Seyrig', '· Bruno Fazzolari Feu Secret', '· Bruno Fazzolari Monserrat', '· Bruno Fazzolari Five', '·  Bruno Fazzolari Ummagumma', 'Illuminum White Gardenia Petals', 'Illuminum Wild Tobacco', 'Illuminum Tribal Black Tea', 'Illuminum Moroccan Tuberose', 'Illuminum Ginger Pear', 'Illuminum Piper Leather', 'Illuminum Rose Oud', 'Illuminum Taif Rose', 'Illuminum Scarlet Oud', 'Illuminum Wild Berry Blossom', 'Illuminum White Gardenia Petals', 'Illuminum Wild Tobacco', 'Illuminum Tribal Black Tea', 'Illuminum Moroccan Tuberose', 'Illuminum Ginger Pear', 'Illuminum Piper Leather', 'Illuminum Rose Oud', 'Illuminum Taif Rose', 'Illuminum Scarlet Oud', 'Illuminum Wild Berry Blossom', 'Illuminum White Gardenia Petals', 'Illuminum Wild Tobacco', 'Illuminum Tribal Black Tea', 'Illuminum Moroccan Tuberose', 'Illuminum Ginger Pear', 'Illuminum Piper Leather', 'Illuminum Taif Rose', 'Illuminum Rose Oud', 'Illuminum Scarlet Oud', 'Illuminum Wild Berry Blossom', 'Illuminum White Gardenia Petals', 'Illuminum Wild Tobacco', 'Illuminum Tribal Black Tea', 'Illuminum Moroccan Tuberose', 'Illuminum Ginger Pear', 'Illuminum Piper Leather', 'Illuminum Taif Rose', 'Illuminum Rose Oud', 'Illuminum Scarlet Oud', 'Illuminum Wild Berry Blossom', 'Illuminum White Gardenia Petals', 'Illuminum Wild Tobacco', 'Illuminum Tribal Black Tea', 'Illuminum Moroccan Tuberose', 'Illuminum Ginger Pear', 'Illuminum Piper Leather', 'Illuminum Rose Oud', 'Illuminum Taif Rose', 'Illuminum Scarlet Oud', 'Illuminum Wild Berry Blossom', 'Striptease Flowers Sabe Masson Divins Alcools Striptease Flowers', 'Sabe Masson Ne Des Roses', 'Zazou Sabe Masson Divins Alcools Zazou', 'Sabe Masson Le Soft Perfume Liquide Georges et Moi', 'Sabe Masson Zazou', 'Artist Sabe Masson Divins Alcools Artist', 'Sabe Masson Copacabana', 'Sabe Masson Lucky Bay Edition ', 'Sabe Masson Parisian Rhapsody', 'Sabe Masson Etre Ici Et Ailleurs']\n"
     ]
    }
   ],
   "source": [
    "import re\n",
    "English_names = []\n",
    "for i in Names_perfume:\n",
    "    i = i.split(\", \")\n",
    "    i = i[0]\n",
    "    i = re.sub(r'[\\u4e00-\\u9fa5]','',i)\n",
    "    i = re.sub(r'[0-9]','',i) \n",
    "    i = re.sub(r'（）','',i)\n",
    "    i = re.sub(r'(^\\s+)','',i) \n",
    "    English_names.append(i)\n",
    "print(English_names[:100])    "
   ]
  },
  {
   "cell_type": "code",
   "execution_count": 109,
   "metadata": {},
   "outputs": [
    {
     "name": "stdout",
     "output_type": "stream",
     "text": [
      "['None', 'None', 'None', 'None', 'None', 'None', 'None', 'None', 'None', 'None', 'None', 'None', 'None', 'None', 'None', 'None', 'None', 'None', 'None', 'None', '2013', '2013', '2015', '2014', '2013', '2015', '2017', '2013', '2013', '2017', '2013', '2013', '2015', '2014', '2013', '2015', '2017', '2013', '2013', '2017', '2011', '2011', '2011', 'None', '2011', '2011', '2011', 'None', '2011', '2011', '2011', '2011', '2011', 'None', '2011', '2011', '2011', 'None', '2011', '2011', '2011', '2011', '2011', 'None', '2011', '2011', 'None', '2011', '2011', '2011', '2011', '2011', '2011', 'None', '2011', '2011', 'None', '2011', '2011', '2011', '2011', '2011', '2011', 'None', '2011', '2011', '2011', 'None', '2011', '2011', '2015', '2015', '2015', '2017', '2015', '2015', '2015', '2015', '2015', '2015']\n"
     ]
    }
   ],
   "source": [
    "Years = []\n",
    "for i in Names_perfume:\n",
    "    if not \",\" in i:\n",
    "        Years.append(\"None\")\n",
    "    else:\n",
    "        i = i.split(\",\")\n",
    "        i = i[-1]\n",
    "        i = re.sub(r'(^\\s+)','',i)\n",
    "        Years.append(i)\n",
    "print(Years[:100])"
   ]
  },
  {
   "cell_type": "code",
   "execution_count": 111,
   "metadata": {},
   "outputs": [],
   "source": [
    "import csv\n",
    "Score =[]\n",
    "with open('score_data.csv', 'r') as f:\n",
    "    next(f)\n",
    "    reader = csv.reader(f)\n",
    "    Score =[row[0] for row in reader]"
   ]
  },
  {
   "cell_type": "code",
   "execution_count": 112,
   "metadata": {},
   "outputs": [
    {
     "name": "stdout",
     "output_type": "stream",
     "text": [
      "[' 0 人评价', ' 0 人评价', ' 0 人评价', ' 0 人评价', ' 0 人评价', ' 0 人评价', ' 0 人评价', ' 0 人评价', ' 0 人评价', ' 0 人评价', ' 0 人评价', ' 0 人评价', ' 0 人评价', ' 0 人评价', ' 0 人评价', ' 0 人评价', ' 0 人评价', ' 0 人评价', ' 0 人评价', ' 0 人评价', ' 2 人评价', ' 6 人评价', ' 3 人评价', ' 2 人评价', ' 2 人评价', ' 2 人评价', ' 1 人评价', ' 1 人评价', ' 1 人评价', ' 0 人评价', ' 2 人评价', ' 6 人评价', ' 3 人评价', ' 2 人评价', ' 2 人评价', ' 2 人评价', ' 1 人评价', ' 1 人评价', ' 1 人评价', ' 0 人评价', ' 7.1 分 66 人评价', ' 6.5 分 11 人评价', ' 7 人评价', ' 2 人评价', ' 8 人评价', ' 6 人评价', ' 5 人评价', ' 5 人评价', ' 3 人评价', ' 2 人评价', ' 7.1 分 66 人评价', ' 6.5 分 11 人评价', ' 7 人评价', ' 2 人评价', ' 8 人评价', ' 6 人评价', ' 5 人评价', ' 5 人评价', ' 3 人评价', ' 2 人评价', ' 7.1 分 66 人评价', ' 6.5 分 11 人评价', ' 7 人评价', ' 2 人评价', ' 8 人评价', ' 6 人评价', ' 5 人评价', ' 5 人评价', ' 3 人评价', ' 2 人评价', ' 7.1 分 66 人评价', ' 6.5 分 11 人评价', ' 7 人评价', ' 2 人评价', ' 8 人评价', ' 6 人评价', ' 5 人评价', ' 5 人评价', ' 3 人评价', ' 2 人评价', ' 7.1 分 66 人评价', ' 6.5 分 11 人评价', ' 7 人评价', ' 2 人评价', ' 8 人评价', ' 6 人评价', ' 5 人评价', ' 5 人评价', ' 3 人评价', ' 2 人评价', ' 1 人评价', ' 1 人评价', ' 1 人评价', ' 1 人评价', ' 1 人评价', ' 0 人评价', ' 0 人评价', ' 0 人评价', ' 0 人评价', ' 0 人评价']\n"
     ]
    }
   ],
   "source": [
    "Score_number=[]\n",
    "for i in Score:\n",
    "    i = i.split(\"分(\")\n",
    "    i = i[0]\n",
    "    Score_number.append(i) \n",
    "print(Score[:100])"
   ]
  },
  {
   "cell_type": "code",
   "execution_count": 114,
   "metadata": {},
   "outputs": [
    {
     "name": "stdout",
     "output_type": "stream",
     "text": [
      "[' 8.4 分 2006 人', ' 8.6 分 1613 人', ' 8.2 分 478 人', ' 8.2 分 153 人', ' 8 分 136 人', ' 8.1 分 206 人', ' 8.4 分 112 人', ' 7.7 分 89 人', ' 7.9 分 111 人', ' 7.9 分 45 人', ' 8.4 分 2006 人', ' 8.6 分 1613 人', ' 8.2 分 478 人', ' 8.2 分 153 人', ' 8 分 136 人', ' 8.1 分 206 人', ' 8.4 分 112 人', ' 7.7 分 89 人', ' 7.9 分 111 人', ' 7.9 分 45 人', ' 8.4 分 2006 人', ' 8.6 分 1613 人', ' 8.2 分 478 人', ' 8.2 分 153 人', ' 8 分 136 人', ' 8.1 分 206 人', ' 8.4 分 112 人', ' 7.7 分 89 人', ' 7.9 分 111 人', ' 7.9 分 45 人', ' 8.4 分 2006 人', ' 8.6 分 1613 人', ' 8.2 分 478 人', ' 8.2 分 153 人', ' 8 分 136 人', ' 8.1 分 206 人', ' 8.4 分 112 人', ' 7.7 分 89 人', ' 7.9 分 111 人', ' 7.9 分 45 人', ' 8.4 分 2006 人', ' 8.6 分 1613 人', ' 8.2 分 478 人', ' 8.2 分 153 人', ' 8 分 136 人', ' 8.1 分 206 人', ' 8.4 分 112 人', ' 7.7 分 89 人', ' 7.9 分 111 人', ' 7.9 分 45 人', ' 8.4 分 2006 人', ' 8.6 分 1613 人', ' 8.2 分 478 人', ' 8.2 分 153 人', ' 8 分 136 人', ' 8.1 分 206 人', ' 8.4 分 112 人', ' 7.7 分 89 人', ' 7.9 分 111 人', ' 7.9 分 45 人', ' 4 人', ' 0 人', ' 0 人', ' 0 人', ' 0 人', ' 0 人', ' 0 人', ' 0 人', ' 0 人', ' 0 人', ' 4 人', ' 0 人', ' 0 人', ' 0 人', ' 0 人', ' 0 人', ' 0 人', ' 0 人', ' 0 人', ' 0 人', ' 7.9 分 10 人', ' 8 人', ' 1 人', ' 1 人', ' 1 人', ' 0 人', ' 0 人', ' 0 人', ' 0 人', ' 0 人', ' 7.9 分 10 人', ' 8 人', ' 1 人', ' 1 人', ' 1 人', ' 0 人', ' 0 人', ' 0 人', ' 0 人', ' 0 人']\n"
     ]
    }
   ],
   "source": [
    "Reply_number = []\n",
    "for i in Score:\n",
    "    i = i.split(\"分(\")\n",
    "    i = i[-1]\n",
    "    i = i.strip(\"评价)\")\n",
    "    Reply_number.append(i)\n",
    "print(Reply_number[1100:1200])"
   ]
  },
  {
   "cell_type": "code",
   "execution_count": 81,
   "metadata": {},
   "outputs": [],
   "source": [
    "import csv\n",
    "Whole_info=[]\n",
    "with open('whole_data.csv', 'r') as f:\n",
    "    next(f)\n",
    "    reader = csv.reader(f)\n",
    "    Whole_info =[row[0] for row in reader]"
   ]
  },
  {
   "cell_type": "code",
   "execution_count": 115,
   "metadata": {},
   "outputs": [
    {
     "name": "stdout",
     "output_type": "stream",
     "text": [
      "['薰衣草', '香柠檬/n薰衣草/n广藿香/n白松香/n劳丹脂/n橡木苔', '柑橘/n果香', '檀香木', '乳香/n闭鞘姜/n皮革/n麝香', '薰衣草', '香柠檬/n薰衣草/n广藿香/n白松香/n劳丹脂/n橡木苔', '柑橘/n果香', '檀香木', '小雏菊/n乙烯基/n当归/n红没药/n闭鞘姜/n绿叶/n花香/n麝香', '香柠檬/n水仙花/n茉莉/n橡木苔/n橙花/n琥珀', '鸢尾根/n云杉/n尤加利/n姜黄/n粉红胡椒/n雪松/n桦木', '小雏菊/n乙烯基/n当归/n红没药/n闭鞘姜/n绿叶/n花香/n麝香', '香柠檬/n水仙花/n茉莉/n橡木苔/n橙花/n琥珀', '鸢尾根/n云杉/n尤加利/n姜黄/n粉红胡椒/n雪松/n桦木', '绿叶/n柠檬/n柏树/n葡萄柚/n橙花油', '粉红胡椒/n苦橙叶/n香柠檬/n茉莉/n紫罗兰/n橙花', '绿叶/n柠檬/n柏树/n葡萄柚/n橙花油', '粉红胡椒/n苦橙叶/n香柠檬/n茉莉/n紫罗兰/n橙花', '绿叶/n柠檬/n柏树/n葡萄柚/n橙花油', '粉红胡椒/n苦橙叶/n香柠檬/n茉莉/n紫罗兰/n橙花', '绿叶/n柠檬/n柏树/n葡萄柚/n橙花油', '粉红胡椒/n苦橙叶/n香柠檬/n茉莉/n紫罗兰/n橙花', '铃兰/n百合/n生姜', '玫瑰/n铃兰', '睡莲/n黄瓜/n梨/n石榴/n芦荟', '玫瑰/n栀子花/n紫罗兰/n小苍兰/n晚香玉/n紫丁香/n香豌豆/n苦橙叶/n铃兰/n冷杉/n玫瑰/n茉莉/n水仙花', '广藿香/n柚木/n柏树/n橡木苔/n红没药/n安息香/n粉红胡椒/n烟草/n艾蒿/n香根草/n雪松/n乳香/n胡椒/n公丁香/n杜松/n柑橘/n肉豆蔻/n孜然/n鸢尾根/n零陵香豆', '生姜/n檀香木/n昙花/n罗勒/n百合/n依兰/n椰子/n橙花油', '朗姆酒/n无花果/n土壤/n香草/n厚壳桂', '盐/n橙花/n麝香/n绿叶/n海水/n零陵香豆', '铃兰/n百合/n生姜', '玫瑰/n铃兰', '睡莲/n黄瓜/n梨/n石榴/n芦荟', '玫瑰/n栀子花/n紫罗兰/n小苍兰/n晚香玉/n紫丁香/n香豌豆/n苦橙叶/n铃兰/n冷杉/n玫瑰/n茉莉/n水仙花', '广藿香/n柚木/n柏树/n橡木苔/n红没药/n安息香/n粉红胡椒/n烟草/n艾蒿/n香根草/n雪松/n乳香/n胡椒/n公丁香/n杜松/n柑橘/n肉豆蔻/n孜然/n鸢尾根/n零陵香豆', '生姜/n檀香木/n昙花/n罗勒/n百合/n依兰/n椰子/n橙花油', '朗姆酒/n无花果/n土壤/n香草/n厚壳桂', '盐/n橙花/n麝香/n绿叶/n海水/n零陵香豆', '绿叶/n薰衣草/n公丁香/n辛香料/n海狸香/n木质香/n柏树', '香柠檬/n日本柚子/n橘子/n苦橙叶/n芸香/n胡椒/n薄荷/n罗勒/n醋栗叶/n迷迭香/n依兰/n茉莉/n玫瑰/n薰衣草/n老鹳草/n黑檀红木/n劳丹脂/n乳香/n檀香木/n安息香脂/n广藿香/n香草/n零陵香豆/n暹罗/n香根草/n雪松/n851', '绿叶/n薰衣草/n公丁香/n辛香料/n海狸香/n木质香/n柏树', '木质香/n动物气息/n东方香料', '香柠檬/n薄荷/n乳香脂/n橘子/n椰子/n野花/n茉莉/n玫瑰/n无花果/n麝香', '无花果/n依兰/n葡萄柚/n橘子/n茉莉/n铃兰/n八角/n檀香木/n香草/n晚香玉/n琥珀/n麝香', '玫瑰/n木槿/n天芥菜/n胡椒/n檀香木/n雪松', '橘子/n无花果/n桃子/n紫丁香/n茉莉/n铃兰/n栀子花/n鸢尾花/n紫罗兰/n檀香木/n琥珀/n麝香/n香草', '橘子/n无花果/n桃子/n紫丁香/n茉莉/n铃兰/n栀子花/n鸢尾花/n紫罗兰/n檀香木/n琥珀/n麝香/n香草', '香柠檬/n橙子/n沉香(乌木)/n木质香', '柑橘', '木质香/n动物气息/n东方香料', '香柠檬/n橙子/n沉香(乌木)/n木质香', '柑橘', '木质香/n动物气息/n东方香料', '香柠檬/n薄荷/n乳香脂/n橘子/n椰子/n野花/n茉莉/n玫瑰/n无花果/n麝香', '无花果/n依兰/n葡萄柚/n橘子/n茉莉/n铃兰/n八角/n檀香木/n香草/n晚香玉/n琥珀/n麝香', '玫瑰/n木槿/n天芥菜/n胡椒/n檀香木/n雪松', '橘子/n无花果/n桃子/n紫丁香/n茉莉/n铃兰/n栀子花/n鸢尾花/n紫罗兰/n檀香木/n琥珀/n麝香/n香草', '木质香/n动物气息/n东方香料', '香柠檬/n薄荷/n乳香脂/n橘子/n椰子/n野花/n茉莉/n玫瑰/n无花果/n麝香', '无花果/n依兰/n葡萄柚/n橘子/n茉莉/n铃兰/n八角/n檀香木/n香草/n晚香玉/n琥珀/n麝香', '玫瑰/n木槿/n天芥菜/n胡椒/n檀香木/n雪松', '橘子/n无花果/n桃子/n紫丁香/n茉莉/n铃兰/n栀子花/n鸢尾花/n紫罗兰/n檀香木/n琥珀/n麝香/n香草', '香柠檬/n橙子/n沉香(乌木)/n木质香', '柑橘', '木质香/n动物气息/n东方香料', '香柠檬/n薄荷/n乳香脂/n橘子/n椰子/n野花/n茉莉/n玫瑰/n无花果/n麝香', '柑橘', '木质香/n动物气息/n东方香料', '香柠檬/n薄荷/n乳香脂/n橘子/n椰子/n野花/n茉莉/n玫瑰/n无花果/n麝香', '无花果/n依兰/n葡萄柚/n橘子/n茉莉/n铃兰/n八角/n檀香木/n香草/n晚香玉/n琥珀/n麝香', '玫瑰/n木槿/n天芥菜/n胡椒/n檀香木/n雪松', '橘子/n无花果/n桃子/n紫丁香/n茉莉/n铃兰/n栀子花/n鸢尾花/n紫罗兰/n檀香木/n琥珀/n麝香/n香草', 'sweet musk/npaper daisy/n苹果花/ntansy/n香草', 'white grapefruit/n香根草/nfig seed/ncashmere wood', 'white ivy/n黄瓜/nfresh fig/napple seed/nverbena', 'sweet musk/npaper daisy/n苹果花/ntansy/n香草', 'white grapefruit/n香根草/nfig seed/ncashmere wood', 'white ivy/n黄瓜/nfresh fig/napple seed/nverbena', 'white lilies/ncamellia leaf/n天芥菜/n粉红胡椒/n紫丁香', '黄葵/n盐/n鼠尾草/n海藻/n葡萄柚', '葡萄柚/n花香/n香根草/n雪松/n黑莓/n月桂叶', '黄葵/n盐/n鼠尾草/n海藻/n葡萄柚', '葡萄柚/n花香/n香根草/n雪松/n黑莓/n月桂叶', '黄葵/n盐/n鼠尾草/n海藻/n葡萄柚', '葡萄柚/n花香/n香根草/n雪松/n黑莓/n月桂叶', '黄葵/n盐/n鼠尾草/n海藻/n葡萄柚', '葡萄柚/n花香/n香根草/n雪松/n黑莓/n月桂叶', '黄葵/n盐/n鼠尾草/n海藻/n葡萄柚', '葡萄柚/n花香/n香根草/n雪松/n黑莓/n月桂叶', '黄葵/n盐/n鼠尾草/n海藻/n葡萄柚', '葡萄柚/n花香/n香根草/n雪松/n黑莓/n月桂叶', '黄葵/n盐/n鼠尾草/n海藻/n葡萄柚', '葡萄柚/n花香/n香根草/n雪松/n黑莓/n月桂叶', '黄葵/n盐/n鼠尾草/n海藻/n葡萄柚', '葡萄柚/n花香/n香根草/n雪松/n黑莓/n月桂叶', 'palo santo wood/nsiam wood/nwhite champa flower', 'black pepper/n康乃馨/n肉桂/n老鹳草', '橙子/nsampaguita/nylang ylang', '茉莉/n柠檬/n玫瑰/n檀香木']\n"
     ]
    }
   ],
   "source": [
    "Alone_info = []\n",
    "Main_info = []\n",
    "for i in Whole_info:\n",
    "    if re.findall(r\"^气味\",i):\n",
    "        alone = i.replace(\"气味：\",\"\")\n",
    "        alone = alone.replace(\",\",\"/n\")\n",
    "        Alone_info.append(alone)\n",
    "    else:\n",
    "        Main_info.append(i)\n",
    "print(Alone_info[:100])"
   ]
  },
  {
   "cell_type": "markdown",
   "metadata": {},
   "source": [
    "# the whole top every perfume contain"
   ]
  },
  {
   "cell_type": "code",
   "execution_count": 126,
   "metadata": {},
   "outputs": [
    {
     "name": "stdout",
     "output_type": "stream",
     "text": [
      "['柠檬/n依兰', '胡椒/n橙子', '芫荽', '醛/n橘子', '葡萄柚/n胡萝卜籽', '柠檬/n橙子', '藏红花/n康乃馨/n黑巧克力', '柠檬/n依兰', '胡椒/n橙子', '芫荽', '醛/n橘子', '葡萄柚/n胡萝卜籽', '柠檬/n橙子', '藏红花/n康乃馨/n黑巧克力', '百合/n香柠檬/n醋栗叶', '公丁香/n快乐鼠尾草', '香柠檬/n小豆蔻/n柠檬', '老鹳草/n玫瑰', '柑橘/n梨/n香柠檬', '芫荽/n胡椒', '茉莉/n铃兰/n罗勒/n芫荽', '老鹳草/n玫瑰', '胡椒/n蜂蜜', '醋栗叶/n仙客来', '百合/n香柠檬/n醋栗叶', '公丁香/n快乐鼠尾草', '香柠檬/n小豆蔻/n柠檬', '老鹳草/n玫瑰', '柑橘/n梨/n香柠檬', '芫荽/n胡椒', '茉莉/n铃兰/n罗勒/n芫荽', '老鹳草/n玫瑰', '胡椒/n蜂蜜', '醋栗叶/n仙客来', '百合/n香柠檬/n醋栗叶', '公丁香/n快乐鼠尾草', '香柠檬/n小豆蔻/n柠檬', '老鹳草/n玫瑰', '柑橘/n梨/n香柠檬', '芫荽/n胡椒', '老鹳草/n玫瑰', '茉莉/n铃兰/n罗勒/n芫荽', '胡椒/n蜂蜜', '醋栗叶/n仙客来', '百合/n香柠檬/n醋栗叶', '公丁香/n快乐鼠尾草', '香柠檬/n小豆蔻/n柠檬', '老鹳草/n玫瑰', '柑橘/n梨/n香柠檬', '芫荽/n胡椒', '老鹳草/n玫瑰', '茉莉/n铃兰/n罗勒/n芫荽', '胡椒/n蜂蜜', '醋栗叶/n仙客来', '百合/n香柠檬/n醋栗叶', '公丁香/n快乐鼠尾草', '香柠檬/n小豆蔻/n柠檬', '老鹳草/n玫瑰', '柑橘/n梨/n香柠檬', '芫荽/n胡椒', '茉莉/n铃兰/n罗勒/n芫荽', '老鹳草/n玫瑰', '胡椒/n蜂蜜', '醋栗叶/n仙客来', '橘子/n香柠檬', '梨/n小苍兰', '香橼/n柠檬/n葡萄柚', '香柠檬/n苦橙叶', '葡萄柚', '橘子/n柠檬/n橙花油/n薄荷/n小豆蔻/n肉桂', '橙子/n红浆果', '粉红胡椒', '橘子/n香柠檬', '梨/n小苍兰', '香橼/n柠檬/n葡萄柚', '香柠檬/n苦橙叶', '粉红胡椒', '香柠檬/n葡萄柚', '葡萄柚', '橘子/n柠檬/n橙花油/n薄荷/n小豆蔻/n肉桂', '橘子/n香柠檬', '梨/n小苍兰', '香柠檬/n苦橙叶', '香橼/n柠檬/n葡萄柚', '橙子/n红浆果', '粉红胡椒', '香柠檬/n葡萄柚', '葡萄柚', '橘子/n香柠檬', '梨/n小苍兰', '香橼/n柠檬/n葡萄柚', '香柠檬/n苦橙叶', '葡萄柚', '橘子/n柠檬/n橙花油/n薄荷/n小豆蔻/n肉桂', '橙子/n红浆果', '粉红胡椒', '醛/n茉莉/n白色花系', '杏仁/n火龙果/n杏', '橙子/n桃子/n玫瑰', '柑橘/n葡萄柚/n香柠檬/n牡丹/n山茶花']\n"
     ]
    }
   ],
   "source": [
    "Top = []\n",
    "for i in Main_info:\n",
    "    i = i.strip(\"前调：\")\n",
    "    i = i.split(\"中调\") \n",
    "    top = i[0]\n",
    "    if top!=\"\":\n",
    "        top = top.replace(\",\",\"/n\")\n",
    "        Top.append(top)\n",
    "print(Top[0:100])"
   ]
  },
  {
   "cell_type": "markdown",
   "metadata": {},
   "source": [
    "# split top every"
   ]
  },
  {
   "cell_type": "code",
   "execution_count": 139,
   "metadata": {},
   "outputs": [
    {
     "name": "stdout",
     "output_type": "stream",
     "text": [
      "['柠檬', '依兰', '胡椒', '橙子', '芫荽', '醛', '橘子', '葡萄柚', '胡萝卜籽', '柠檬', '橙子', '藏红花', '康乃馨', '黑巧克力', '柠檬', '依兰', '胡椒', '橙子', '芫荽', '醛', '橘子', '葡萄柚', '胡萝卜籽', '柠檬', '橙子', '藏红花', '康乃馨', '黑巧克力', '百合', '香柠檬', '醋栗叶', '公丁香', '快乐鼠尾草', '香柠檬', '小豆蔻', '柠檬', '老鹳草', '玫瑰', '柑橘', '梨', '香柠檬', '芫荽', '胡椒', '茉莉', '铃兰', '罗勒', '芫荽', '老鹳草', '玫瑰', '胡椒', '蜂蜜', '醋栗叶', '仙客来', '百合', '香柠檬', '醋栗叶', '公丁香', '快乐鼠尾草', '香柠檬', '小豆蔻', '柠檬', '老鹳草', '玫瑰', '柑橘', '梨', '香柠檬', '芫荽', '胡椒', '茉莉', '铃兰', '罗勒', '芫荽', '老鹳草', '玫瑰', '胡椒', '蜂蜜', '醋栗叶', '仙客来', '百合', '香柠檬', '醋栗叶', '公丁香', '快乐鼠尾草', '香柠檬', '小豆蔻', '柠檬', '老鹳草', '玫瑰', '柑橘', '梨', '香柠檬', '芫荽', '胡椒', '老鹳草', '玫瑰', '茉莉', '铃兰', '罗勒', '芫荽', '胡椒']\n"
     ]
    }
   ],
   "source": [
    "#split the top into one by one\n",
    "Topall = []\n",
    "for i in Main_info:\n",
    "    i = i.strip(\"前调：\")\n",
    "    i = i.split(\"中调\") \n",
    "    top = i[0]\n",
    "    if top!=\"\":\n",
    "        top = top.replace(\",\",\"/n\")\n",
    "        top = top.split(\"/n\")\n",
    "        Topall.append(top)\n",
    "Top_every = []\n",
    "for i in range(len(Topall)):\n",
    "    Top_every.extend(Topall[i])\n",
    "print(Top_every[0:100])"
   ]
  },
  {
   "cell_type": "markdown",
   "metadata": {},
   "source": [
    "# the whole middle every perfume contain"
   ]
  },
  {
   "cell_type": "code",
   "execution_count": 127,
   "metadata": {},
   "outputs": [
    {
     "name": "stdout",
     "output_type": "stream",
     "text": [
      "['玫瑰/n老鹳草', '葡萄柚', '橙花油/n茉莉', '依兰/n玫瑰/n铃兰/n丁香花', '杏/n绿叶/n茉莉', '迷迭香/n苦橙叶', '烟草/n皮革/n劳丹脂/n檀香木', '玫瑰/n老鹳草', '葡萄柚', '橙花油/n茉莉', '依兰/n玫瑰/n铃兰/n丁香花', '杏/n绿叶/n茉莉', '迷迭香/n苦橙叶', '烟草/n皮革/n劳丹脂/n檀香木', '茉莉/n铃兰/n栀子花/n依兰', '雪松/n烟草', '茶叶/n花香/n茉莉', '依兰/n玫瑰', '茶叶/n花香/n生姜/n大黄/n小茴香', '皮革/n茉莉/n胡萝卜籽', '玫瑰/n老鹳草', '塔伊夫玫瑰/n玫瑰', '沉香(乌木)/n香根草/n树脂', '牡丹/n野花/n树莓花/n木兰', '茉莉/n铃兰/n栀子花/n依兰', '雪松/n烟草', '茶叶/n花香/n茉莉', '依兰/n玫瑰', '茶叶/n花香/n生姜/n大黄/n小茴香', '皮革/n茉莉/n胡萝卜籽', '玫瑰/n老鹳草', '塔伊夫玫瑰/n玫瑰', '沉香(乌木)/n香根草/n树脂', '牡丹/n野花/n树莓花/n木兰', '茉莉/n铃兰/n栀子花/n依兰', '雪松/n烟草', '茶叶/n花香/n茉莉', '依兰/n玫瑰', '茶叶/n花香/n生姜/n大黄/n小茴香', '皮革/n茉莉/n胡萝卜籽', '塔伊夫玫瑰/n玫瑰', '玫瑰/n老鹳草', '沉香(乌木)/n香根草/n树脂', '牡丹/n野花/n树莓花/n木兰', '茉莉/n铃兰/n栀子花/n依兰', '雪松/n烟草', '茶叶/n花香/n茉莉', '依兰/n玫瑰', '茶叶/n花香/n生姜/n大黄/n小茴香', '皮革/n茉莉/n胡萝卜籽', '塔伊夫玫瑰/n玫瑰', '玫瑰/n老鹳草', '沉香(乌木)/n香根草/n树脂', '牡丹/n野花/n树莓花/n木兰', '茉莉/n铃兰/n栀子花/n依兰', '雪松/n烟草', '茶叶/n花香/n茉莉', '依兰/n玫瑰', '茶叶/n花香/n生姜/n大黄/n小茴香', '皮革/n茉莉/n胡萝卜籽', '玫瑰/n老鹳草', '塔伊夫玫瑰/n玫瑰', '沉香(乌木)/n香根草/n树脂', '牡丹/n野花/n树莓花/n木兰', '橙花/n橙花油/n天芥菜', '玫瑰/n牡丹/n辛香料/n铃兰', '橙花油/n柏树/n生姜/n橙花', '玫瑰/n依兰/n生姜/n木兰', '雪松/n辛香料/n广藿香', '玫瑰/n苦橙叶/n橙花/n公丁香', '玫瑰/n茉莉/n肉豆蔻', '鸢尾花/n天芥菜/n晚香玉/n水仙花', '橙花/n橙花油/n天芥菜', '玫瑰/n牡丹/n辛香料/n铃兰', '橙花油/n柏树/n生姜/n橙花', '玫瑰/n依兰/n生姜/n木兰', '鸢尾花/n天芥菜/n晚香玉/n水仙花', '树莓/n醋栗叶/n玫瑰/n紫罗兰', '雪松/n辛香料/n广藿香', '玫瑰/n苦橙叶/n橙花/n公丁香', '橙花/n橙花油/n天芥菜', '玫瑰/n牡丹/n辛香料/n铃兰', '玫瑰/n依兰/n生姜/n木兰', '橙花油/n柏树/n生姜/n橙花', '玫瑰/n茉莉/n肉豆蔻', '鸢尾花/n天芥菜/n晚香玉/n水仙花', '树莓/n醋栗叶/n玫瑰/n紫罗兰', '雪松/n辛香料/n广藿香', '橙花/n橙花油/n天芥菜', '玫瑰/n牡丹/n辛香料/n铃兰', '橙花油/n柏树/n生姜/n橙花', '玫瑰/n依兰/n生姜/n木兰', '雪松/n辛香料/n广藿香', '玫瑰/n苦橙叶/n橙花/n公丁香', '玫瑰/n茉莉/n肉豆蔻', '鸢尾花/n天芥菜/n晚香玉/n水仙花', '玫瑰/n脂粉味', '茉莉/n橙花/n晚香玉/n依兰', '茉莉/n莲花/n晚香玉/n铃兰', '小苍兰/n茉莉/n铃兰/n玫瑰/n桂花']\n"
     ]
    }
   ],
   "source": [
    "Middle = []\n",
    "for i in Main_info:\n",
    "    i = i.split(\"后调\")\n",
    "    top_middle = i[0]\n",
    "    top_middle_new = top_middle.split(\"中调\")\n",
    "    middle = top_middle_new[-1]\n",
    "    middle = middle.strip(\"：\")\n",
    "    if middle!=\"\":\n",
    "        middle = middle.replace(\",\",\"/n\")\n",
    "        Middle.append(middle)\n",
    "print(Middle[0:100])"
   ]
  },
  {
   "cell_type": "markdown",
   "metadata": {},
   "source": [
    "# split middle every"
   ]
  },
  {
   "cell_type": "code",
   "execution_count": 136,
   "metadata": {},
   "outputs": [
    {
     "name": "stdout",
     "output_type": "stream",
     "text": [
      "['玫瑰', '老鹳草', '葡萄柚', '橙花油', '茉莉', '依兰', '玫瑰', '铃兰', '丁香花', '杏', '绿叶', '茉莉', '迷迭香', '苦橙叶', '烟草', '皮革', '劳丹脂', '檀香木', '玫瑰', '老鹳草', '葡萄柚', '橙花油', '茉莉', '依兰', '玫瑰', '铃兰', '丁香花', '杏', '绿叶', '茉莉', '迷迭香', '苦橙叶', '烟草', '皮革', '劳丹脂', '檀香木', '茉莉', '铃兰', '栀子花', '依兰', '雪松', '烟草', '茶叶', '花香', '茉莉', '依兰', '玫瑰', '茶叶', '花香', '生姜', '大黄', '小茴香', '皮革', '茉莉', '胡萝卜籽', '玫瑰', '老鹳草', '塔伊夫玫瑰', '玫瑰', '沉香(乌木)', '香根草', '树脂', '牡丹', '野花', '树莓花', '木兰', '茉莉', '铃兰', '栀子花', '依兰', '雪松', '烟草', '茶叶', '花香', '茉莉', '依兰', '玫瑰', '茶叶', '花香', '生姜', '大黄', '小茴香', '皮革', '茉莉', '胡萝卜籽', '玫瑰', '老鹳草', '塔伊夫玫瑰', '玫瑰', '沉香(乌木)', '香根草', '树脂', '牡丹', '野花', '树莓花', '木兰', '茉莉', '铃兰', '栀子花', '依兰']\n"
     ]
    }
   ],
   "source": [
    "#split the middle into one by one\n",
    "Middleall = []\n",
    "for i in Main_info:\n",
    "    i = i.split(\"后调\")\n",
    "    top_middle = i[0]\n",
    "    top_middle_new = top_middle.split(\"中调\")\n",
    "    middle = top_middle_new[-1]\n",
    "    middle = middle.strip(\"：\")\n",
    "    if middle!=\"\":\n",
    "        middle = middle.replace(\",\",\"/n\")\n",
    "        middle = middle.split(\"/n\")\n",
    "        Middleall.append(middle)\n",
    "Middle_every = []\n",
    "for i in range(len(Middleall)):\n",
    "    Middle_every.extend(Middleall[i])\n",
    "print(Middle_every[0:100])"
   ]
  },
  {
   "cell_type": "markdown",
   "metadata": {},
   "source": [
    "# the whole base every perfume contain"
   ]
  },
  {
   "cell_type": "code",
   "execution_count": 128,
   "metadata": {},
   "outputs": [
    {
     "name": "stdout",
     "output_type": "stream",
     "text": [
      "['紫罗兰叶/n天芥菜/n檀香木', '莎草/n安息香脂/n香根草', '橙花/n琥珀/n树脂/n橡木苔', '橡木苔/n麝香', '龙涎香/n麝香/n石膏', '木质香', '雪松/n乳香/n零陵香豆/n香草', '紫罗兰叶/n天芥菜/n檀香木', '莎草/n安息香脂/n香根草', '橙花/n琥珀/n树脂/n橡木苔', '橡木苔/n麝香', '龙涎香/n麝香/n石膏', '木质香', '雪松/n乳香/n零陵香豆/n香草', '琥珀/n木质香', '劳丹脂/n海狸香/n零陵香豆', '琥珀/n木质香/n肉豆蔻/n雪松', '晚香玉/n雪松/n麝香', '麝香/n檀香木', '乳香/n麝猫香/n麝香', '海狸香/n沉香(乌木)/n广藿香', '麝香/n檀香木', '麝猫香/n海狸香', '雪松/n麝香', '琥珀/n木质香', '劳丹脂/n海狸香/n零陵香豆', '琥珀/n木质香/n肉豆蔻/n雪松', '晚香玉/n雪松/n麝香', '麝香/n檀香木', '乳香/n麝猫香/n麝香', '海狸香/n沉香(乌木)/n广藿香', '麝香/n檀香木', '麝猫香/n海狸香', '雪松/n麝香', '琥珀/n木质香', '劳丹脂/n海狸香/n零陵香豆', '琥珀/n木质香/n肉豆蔻/n雪松', '晚香玉/n雪松/n麝香', '麝香/n檀香木', '乳香/n麝猫香/n麝香', '麝香/n檀香木', '海狸香/n沉香(乌木)/n广藿香', '麝猫香/n海狸香', '雪松/n麝香', '琥珀/n木质香', '劳丹脂/n海狸香/n零陵香豆', '琥珀/n木质香/n肉豆蔻/n雪松', '晚香玉/n雪松/n麝香', '麝香/n檀香木', '乳香/n麝猫香/n麝香', '麝香/n檀香木', '海狸香/n沉香(乌木)/n广藿香', '麝猫香/n海狸香', '雪松/n麝香', '琥珀/n木质香', '劳丹脂/n海狸香/n零陵香豆', '琥珀/n木质香/n肉豆蔻/n雪松', '晚香玉/n雪松/n麝香', '麝香/n檀香木', '乳香/n麝猫香/n麝香', '海狸香/n沉香(乌木)/n广藿香', '麝香/n檀香木', '麝猫香/n海狸香', '雪松/n麝香', '广藿香/n琥珀/n焦糖/n香草', '桃花心木/n麝香', '雪松/n琥珀/n麝香', '香根草/n雪松', '橡木苔/n麝香', '广藿香/n檀香木/n琥珀', '香豆素/n香草/n麝香', '檀香木/n香草', '广藿香/n琥珀/n焦糖/n香草', '桃花心木/n麝香', '雪松/n琥珀/n麝香', '香根草/n雪松', '檀香木/n香草', '肉桂/n雪松/n檀香木', '橡木苔/n麝香', '广藿香/n檀香木/n琥珀', '广藿香/n琥珀/n焦糖/n香草', '桃花心木/n麝香', '香根草/n雪松', '雪松/n琥珀/n麝香', '香豆素/n香草/n麝香', '檀香木/n香草', '肉桂/n雪松/n檀香木', '橡木苔/n麝香', '广藿香/n琥珀/n焦糖/n香草', '桃花心木/n麝香', '雪松/n琥珀/n麝香', '香根草/n雪松', '橡木苔/n麝香', '广藿香/n檀香木/n琥珀', '香豆素/n香草/n麝香', '檀香木/n香草', '麝香/n木质香/n琥珀', '香草/n麝香/n琥珀/n檀香木', '香草/n木质香/n檀香木/n麝香', '广藿香/n雪松/n麝香']\n"
     ]
    }
   ],
   "source": [
    "Base = []\n",
    "for i in Main_info:\n",
    "    i = i.split(\"后调\")\n",
    "    base = i[-1]\n",
    "    base = base.strip(\"：\")\n",
    "    if base!=\"\":\n",
    "        base = base.replace(\",\",\"/n\")\n",
    "        Base.append(base)\n",
    "print(Base[0:100])"
   ]
  },
  {
   "cell_type": "markdown",
   "metadata": {},
   "source": [
    "# split base every"
   ]
  },
  {
   "cell_type": "code",
   "execution_count": 137,
   "metadata": {},
   "outputs": [
    {
     "name": "stdout",
     "output_type": "stream",
     "text": [
      "['紫罗兰叶', '天芥菜', '檀香木', '莎草', '安息香脂', '香根草', '橙花', '琥珀', '树脂', '橡木苔', '橡木苔', '麝香', '龙涎香', '麝香', '石膏', '木质香', '雪松', '乳香', '零陵香豆', '香草', '紫罗兰叶', '天芥菜', '檀香木', '莎草', '安息香脂', '香根草', '橙花', '琥珀', '树脂', '橡木苔', '橡木苔', '麝香', '龙涎香', '麝香', '石膏', '木质香', '雪松', '乳香', '零陵香豆', '香草', '琥珀', '木质香', '劳丹脂', '海狸香', '零陵香豆', '琥珀', '木质香', '肉豆蔻', '雪松', '晚香玉', '雪松', '麝香', '麝香', '檀香木', '乳香', '麝猫香', '麝香', '海狸香', '沉香(乌木)', '广藿香', '麝香', '檀香木', '麝猫香', '海狸香', '雪松', '麝香', '琥珀', '木质香', '劳丹脂', '海狸香', '零陵香豆', '琥珀', '木质香', '肉豆蔻', '雪松', '晚香玉', '雪松', '麝香', '麝香', '檀香木', '乳香', '麝猫香', '麝香', '海狸香', '沉香(乌木)', '广藿香', '麝香', '檀香木', '麝猫香', '海狸香', '雪松', '麝香', '琥珀', '木质香', '劳丹脂', '海狸香', '零陵香豆', '琥珀', '木质香', '肉豆蔻']\n"
     ]
    }
   ],
   "source": [
    "#split base to one by one\n",
    "Baseall = []\n",
    "for i in Main_info:\n",
    "    i = i.split(\"后调\")\n",
    "    base = i[-1]\n",
    "    base = base.strip(\"：\")\n",
    "    if base!=\"\":\n",
    "        base = base.replace(\",\",\"/n\")\n",
    "        base = base.split(\"/n\")\n",
    "        Baseall.append(base)\n",
    "Base_every = []\n",
    "for i in range(len(Baseall)):\n",
    "    Base_every.extend(Baseall[i])\n",
    "print(Base_every[0:100])"
   ]
  },
  {
   "cell_type": "code",
   "execution_count": 130,
   "metadata": {},
   "outputs": [
    {
     "name": "stdout",
     "output_type": "stream",
     "text": [
      "<class 'pandas.core.frame.DataFrame'>\n",
      "RangeIndex: 12284 entries, 0 to 12283\n",
      "Data columns (total 1 columns):\n",
      "Top    12284 non-null object\n",
      "dtypes: object(1)\n",
      "memory usage: 96.0+ KB\n",
      "None\n"
     ]
    }
   ],
   "source": [
    "import csv\n",
    "import pandas as pd\n",
    "datapage1 = {\n",
    "    'Top': Top,\n",
    "}\n",
    "pd_perfume = pd.DataFrame.from_dict(datapage1, orient ='index').transpose()\n",
    "print(pd_perfume.info())\n",
    "pd_perfume.to_csv('pd_perfume_top.csv',index = False, encoding = 'utf_8_sig')"
   ]
  },
  {
   "cell_type": "code",
   "execution_count": 131,
   "metadata": {},
   "outputs": [
    {
     "name": "stdout",
     "output_type": "stream",
     "text": [
      "<class 'pandas.core.frame.DataFrame'>\n",
      "RangeIndex: 12300 entries, 0 to 12299\n",
      "Data columns (total 1 columns):\n",
      "Middle    12300 non-null object\n",
      "dtypes: object(1)\n",
      "memory usage: 96.2+ KB\n",
      "None\n"
     ]
    }
   ],
   "source": [
    "import csv\n",
    "import pandas as pd\n",
    "datapage2 = {\n",
    "    'Middle': Middle,\n",
    "}\n",
    "pd_perfume = pd.DataFrame.from_dict(datapage2, orient ='index').transpose()\n",
    "print(pd_perfume.info())\n",
    "pd_perfume.to_csv('pd_perfume_middle.csv',index = False, encoding = 'utf_8_sig')"
   ]
  },
  {
   "cell_type": "code",
   "execution_count": 132,
   "metadata": {},
   "outputs": [
    {
     "name": "stdout",
     "output_type": "stream",
     "text": [
      "<class 'pandas.core.frame.DataFrame'>\n",
      "RangeIndex: 12290 entries, 0 to 12289\n",
      "Data columns (total 1 columns):\n",
      "Base    12290 non-null object\n",
      "dtypes: object(1)\n",
      "memory usage: 96.1+ KB\n",
      "None\n"
     ]
    }
   ],
   "source": [
    "import csv\n",
    "import pandas as pd\n",
    "datapage3 = {\n",
    "    'Base': Base,\n",
    "}\n",
    "pd_perfume = pd.DataFrame.from_dict(datapage3, orient ='index').transpose()\n",
    "print(pd_perfume.info())\n",
    "pd_perfume.to_csv('pd_perfume_Base.csv',index = False, encoding = 'utf_8_sig')"
   ]
  },
  {
   "cell_type": "code",
   "execution_count": 138,
   "metadata": {},
   "outputs": [
    {
     "name": "stdout",
     "output_type": "stream",
     "text": [
      "<class 'pandas.core.frame.DataFrame'>\n",
      "RangeIndex: 39272 entries, 0 to 39271\n",
      "Data columns (total 1 columns):\n",
      "Top_every    39272 non-null object\n",
      "dtypes: object(1)\n",
      "memory usage: 306.9+ KB\n",
      "None\n",
      "<class 'pandas.core.frame.DataFrame'>\n",
      "RangeIndex: 42740 entries, 0 to 42739\n",
      "Data columns (total 1 columns):\n",
      "Middle_every    42740 non-null object\n",
      "dtypes: object(1)\n",
      "memory usage: 334.0+ KB\n",
      "None\n",
      "<class 'pandas.core.frame.DataFrame'>\n",
      "RangeIndex: 44066 entries, 0 to 44065\n",
      "Data columns (total 1 columns):\n",
      "Base_every    44066 non-null object\n",
      "dtypes: object(1)\n",
      "memory usage: 344.3+ KB\n",
      "None\n"
     ]
    }
   ],
   "source": [
    "import csv\n",
    "import pandas as pd\n",
    "datapage4 = {\n",
    "    'Top_every': Top_every,\n",
    "}\n",
    "pd_perfume = pd.DataFrame.from_dict(datapage4, orient ='index').transpose()\n",
    "print(pd_perfume.info())\n",
    "pd_perfume.to_csv('pd_perfume_top_every.csv',index = False, encoding = 'utf_8_sig')\n",
    "\n",
    "datapage5 = {\n",
    "    'Middle_every': Middle_every,\n",
    "}\n",
    "pd_perfume = pd.DataFrame.from_dict(datapage5, orient ='index').transpose()\n",
    "print(pd_perfume.info())\n",
    "pd_perfume.to_csv('pd_perfume_middle_every.csv',index = False, encoding = 'utf_8_sig')\n",
    "\n",
    "datapage6 = {\n",
    "    'Base_every': Base_every,\n",
    "}\n",
    "pd_perfume = pd.DataFrame.from_dict(datapage6, orient ='index').transpose()\n",
    "print(pd_perfume.info())\n",
    "pd_perfume.to_csv('pd_perfume_base_every.csv',index = False, encoding = 'utf_8_sig')"
   ]
  },
  {
   "cell_type": "code",
   "execution_count": null,
   "metadata": {},
   "outputs": [],
   "source": []
  },
  {
   "cell_type": "code",
   "execution_count": null,
   "metadata": {},
   "outputs": [],
   "source": [
    "import csv\n",
    "datapage2 = {\n",
    "    'Brand_names' : Brand_names,\n",
    "    'Chinese_names':Chinese_names,\n",
    "    'English_names':English_names,\n",
    "    'Whole': Whole,\n",
    "    'Years':Years,\n",
    "    'Score_number': Score_number,\n",
    "    'Reply_number': Reply_number,\n",
    "}\n",
    "pd_perfume_test_all = pd.DataFrame.from_dict(datapage2, orient ='index').transpose()\n",
    "print(pd_perfume.info())\n",
    "pd_perfume_test_all.to_csv('pd_perfume_all.csv',index = False, encoding = 'utf_8_sig')"
   ]
  },
  {
   "cell_type": "code",
   "execution_count": null,
   "metadata": {},
   "outputs": [],
   "source": []
  },
  {
   "cell_type": "code",
   "execution_count": null,
   "metadata": {},
   "outputs": [],
   "source": []
  },
  {
   "cell_type": "code",
   "execution_count": null,
   "metadata": {},
   "outputs": [],
   "source": []
  },
  {
   "cell_type": "code",
   "execution_count": null,
   "metadata": {},
   "outputs": [],
   "source": []
  },
  {
   "cell_type": "code",
   "execution_count": null,
   "metadata": {},
   "outputs": [],
   "source": []
  }
 ],
 "metadata": {
  "kernelspec": {
   "display_name": "Python 3",
   "language": "python",
   "name": "python3"
  },
  "language_info": {
   "codemirror_mode": {
    "name": "ipython",
    "version": 3
   },
   "file_extension": ".py",
   "mimetype": "text/x-python",
   "name": "python",
   "nbconvert_exporter": "python",
   "pygments_lexer": "ipython3",
   "version": "3.6.5"
  }
 },
 "nbformat": 4,
 "nbformat_minor": 2
}
