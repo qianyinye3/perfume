{
 "cells": [
  {
   "cell_type": "code",
   "execution_count": null,
   "metadata": {},
   "outputs": [],
   "source": [
    "import csv\n",
    "URLs=[]\n",
    "with open('whole_urls.csv', 'r') as f:\n",
    "    reader = csv.reader(f)\n",
    "    for line in f:\n",
    "        URLs = [row[0] for row in reader]"
   ]
  },
  {
   "cell_type": "code",
   "execution_count": null,
   "metadata": {},
   "outputs": [],
   "source": [
    "from selenium import webdriver  \n",
    "import time \n",
    "import re\n",
    "from lxml import etree\n",
    "from bs4 import BeautifulSoup\n",
    "import bs4 as bs\n",
    "from selenium.common.exceptions import NoSuchElementException \n",
    "from selenium.webdriver.common.by import By \n",
    "from selenium.webdriver.support.ui import WebDriverWait \n",
    "from selenium.webdriver.support import expected_conditions as EC \n",
    "import pandas as pd\n",
    "\n",
    "Names_perfume = []\n",
    "Whole_info = []\n",
    "Score = []\n",
    "#browser = webdriver.Firefox()#Chrome('./chromedriver.exe') \n",
    "for url in URLs:\n",
    "    PATIENCE_TIME = 60 \n",
    "    driver = webdriver.Chrome() \n",
    "    driver.get(url) \n",
    "    driver.encoding = 'utf-8'\n",
    "    driver.maximize_window()\n",
    "\n",
    "    html = driver.page_source\n",
    "    soup = BeautifulSoup(html,'lxml')\n",
    "    perfume_containers = soup.find_all('div', class_='item')\n",
    "\n",
    "    for container in perfume_containers:\n",
    "        #find all the date of the news\n",
    "        try: \n",
    "            for name in container.find_all('h2'): \n",
    "                Names_perfume.append(name.text)\n",
    "        except: \n",
    "            name = \"no_date\"\n",
    "            Names_perfume.append(name)\n",
    "\n",
    "        #find all the ingredients of the perfumes\n",
    "        try: \n",
    "            for whole_info in container.find_all('div',class_='info'):\n",
    "                Whole_info.append(whole_info.text)\n",
    "\n",
    "        except: \n",
    "            whole_info = \"no_whole_info\"\n",
    "            Whole_info.append(whole_info)\n",
    "\n",
    "        #find all the scores of the perfumes\n",
    "        try: \n",
    "            for score in container.find_all('div',class_='score'):\n",
    "                Score.append(score.text)\n",
    "        except: \n",
    "            score = \"no_score\"\n",
    "            Score.append(score.text)\n",
    "    driver.close()\n",
    "driver.quit() "
   ]
  },
  {
   "cell_type": "code",
   "execution_count": null,
   "metadata": {},
   "outputs": [],
   "source": [
    "datapage1 = {\n",
    "    'Names_perfume': Names_perfume,\n",
    "    'Whole_info': Whole_info,\n",
    "    'Score' : Score,\n",
    "}\n",
    "orginaldata = pd.DataFrame.from_dict(datapage1, orient ='index').transpose()\n",
    "print(orginaldata.info())\n",
    "orginaldata.to_csv('orginal_data_1.csv',index = False, encoding = 'utf_8_sig')"
   ]
  }
 ],
 "metadata": {
  "kernelspec": {
   "display_name": "Python 3",
   "language": "python",
   "name": "python3"
  },
  "language_info": {
   "codemirror_mode": {
    "name": "ipython",
    "version": 3
   },
   "file_extension": ".py",
   "mimetype": "text/x-python",
   "name": "python",
   "nbconvert_exporter": "python",
   "pygments_lexer": "ipython3",
   "version": "3.6.5"
  }
 },
 "nbformat": 4,
 "nbformat_minor": 2
}
